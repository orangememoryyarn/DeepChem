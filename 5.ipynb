{
  "nbformat": 4,
  "nbformat_minor": 0,
  "metadata": {
    "colab": {
      "provenance": [],
      "authorship_tag": "ABX9TyMOTNBlAG2PbWarLWDceBM0"
    },
    "kernelspec": {
      "name": "python3",
      "display_name": "Python 3"
    },
    "language_info": {
      "name": "python"
    }
  },
  "cells": [
    {
      "cell_type": "code",
      "execution_count": 1,
      "metadata": {
        "colab": {
          "base_uri": "https://localhost:8080/"
        },
        "id": "LfboyBdPIDdK",
        "outputId": "2f3d3eba-2762-4183-d91b-d2c73a565b65"
      },
      "outputs": [
        {
          "output_type": "stream",
          "name": "stdout",
          "text": [
            "Collecting deepchem\n",
            "  Downloading deepchem-2.8.1.dev20240710195445-py3-none-any.whl (1.1 MB)\n",
            "\u001b[2K     \u001b[90m━━━━━━━━━━━━━━━━━━━━━━━━━━━━━━━━━━━━━━━━\u001b[0m \u001b[32m1.1/1.1 MB\u001b[0m \u001b[31m5.2 MB/s\u001b[0m eta \u001b[36m0:00:00\u001b[0m\n",
            "\u001b[?25hRequirement already satisfied: joblib in /usr/local/lib/python3.10/dist-packages (from deepchem) (1.4.2)\n",
            "Requirement already satisfied: numpy<2 in /usr/local/lib/python3.10/dist-packages (from deepchem) (1.25.2)\n",
            "Requirement already satisfied: pandas in /usr/local/lib/python3.10/dist-packages (from deepchem) (2.0.3)\n",
            "Requirement already satisfied: scikit-learn in /usr/local/lib/python3.10/dist-packages (from deepchem) (1.2.2)\n",
            "Requirement already satisfied: sympy in /usr/local/lib/python3.10/dist-packages (from deepchem) (1.13.0)\n",
            "Requirement already satisfied: scipy>=1.10.1 in /usr/local/lib/python3.10/dist-packages (from deepchem) (1.11.4)\n",
            "Collecting rdkit (from deepchem)\n",
            "  Downloading rdkit-2024.3.3-cp310-cp310-manylinux_2_28_x86_64.whl (33.1 MB)\n",
            "\u001b[2K     \u001b[90m━━━━━━━━━━━━━━━━━━━━━━━━━━━━━━━━━━━━━━━━\u001b[0m \u001b[32m33.1/33.1 MB\u001b[0m \u001b[31m16.7 MB/s\u001b[0m eta \u001b[36m0:00:00\u001b[0m\n",
            "\u001b[?25hRequirement already satisfied: python-dateutil>=2.8.2 in /usr/local/lib/python3.10/dist-packages (from pandas->deepchem) (2.8.2)\n",
            "Requirement already satisfied: pytz>=2020.1 in /usr/local/lib/python3.10/dist-packages (from pandas->deepchem) (2023.4)\n",
            "Requirement already satisfied: tzdata>=2022.1 in /usr/local/lib/python3.10/dist-packages (from pandas->deepchem) (2024.1)\n",
            "Requirement already satisfied: Pillow in /usr/local/lib/python3.10/dist-packages (from rdkit->deepchem) (9.4.0)\n",
            "Requirement already satisfied: threadpoolctl>=2.0.0 in /usr/local/lib/python3.10/dist-packages (from scikit-learn->deepchem) (3.5.0)\n",
            "Requirement already satisfied: mpmath<1.4,>=1.1.0 in /usr/local/lib/python3.10/dist-packages (from sympy->deepchem) (1.3.0)\n",
            "Requirement already satisfied: six>=1.5 in /usr/local/lib/python3.10/dist-packages (from python-dateutil>=2.8.2->pandas->deepchem) (1.16.0)\n",
            "Installing collected packages: rdkit, deepchem\n",
            "Successfully installed deepchem-2.8.1.dev20240710195445 rdkit-2024.3.3\n"
          ]
        }
      ],
      "source": [
        "!pip install --pre deepchem"
      ]
    },
    {
      "cell_type": "code",
      "source": [
        "import deepchem as dc\n",
        "print(dc.__version__)"
      ],
      "metadata": {
        "colab": {
          "base_uri": "https://localhost:8080/"
        },
        "id": "wuMamtuLIosY",
        "outputId": "f5c08f52-c028-46b3-aab7-fdd96d23ca50"
      },
      "execution_count": 5,
      "outputs": [
        {
          "output_type": "stream",
          "name": "stdout",
          "text": [
            "2.8.1.dev\n"
          ]
        }
      ]
    },
    {
      "cell_type": "code",
      "source": [
        "import tensorflow as tf #import tensorflow\n",
        "\n",
        "keras_model = tf.keras.Sequential([ #define a tensorflow model\n",
        "    tf.keras.layers.Dense(1000, activation='relu'), #1000 inputs; activation function = relu\n",
        "    tf.keras.layers.Dropout(rate=0.5), #50% dropout to avoid overfitting\n",
        "    tf.keras.layers.Dense(1) #1 neuron output -> 0-1 output; what's the activation function? is it sigmoid / swish?\n",
        "])\n",
        "\n",
        "model = dc.models.KerasModel(keras_model, dc.models.losses.L2Loss()) #make a DeepChem model from the tensorflow model"
      ],
      "metadata": {
        "id": "bBIjuUdQIpdS"
      },
      "execution_count": 10,
      "outputs": []
    },
    {
      "cell_type": "code",
      "source": [
        "tasks, datasets, transformers = dc.molnet.load_delaney(featurizer=\"ECFP\", splitter=\"random\")\n",
        "train_dataset, valid_dataset, test_dataset = datasets\n",
        "model.fit(train_dataset, nb_epoch=50)"
      ],
      "metadata": {
        "colab": {
          "base_uri": "https://localhost:8080/"
        },
        "id": "sAmBc0qLI3uy",
        "outputId": "b9aa28c6-9448-4dcb-947e-190b32ecfa90"
      },
      "execution_count": 11,
      "outputs": [
        {
          "output_type": "execute_result",
          "data": {
            "text/plain": [
              "0.03364995241165161"
            ]
          },
          "metadata": {},
          "execution_count": 11
        }
      ]
    },
    {
      "cell_type": "code",
      "source": [
        "metric = dc.metrics.Metric(dc.metrics.pearson_r2_score)"
      ],
      "metadata": {
        "id": "h8ibpEDMJtDc"
      },
      "execution_count": 12,
      "outputs": []
    },
    {
      "cell_type": "code",
      "source": [
        "print('training set score:{} '.format(model.evaluate(train_dataset, [metric])))\n",
        "print('testing set score:{} '.format(model.evaluate(test_dataset, [metric])))"
      ],
      "metadata": {
        "colab": {
          "base_uri": "https://localhost:8080/"
        },
        "id": "gLKG-9xcJvcF",
        "outputId": "b2290c64-97d6-4235-d7a4-4e0d0103e88b"
      },
      "execution_count": 14,
      "outputs": [
        {
          "output_type": "stream",
          "name": "stdout",
          "text": [
            "training set score:{'pearson_r2_score': 0.9773601192050011} \n",
            "testing set score:{'pearson_r2_score': 0.6940334482092807} \n"
          ]
        }
      ]
    },
    {
      "cell_type": "code",
      "source": [
        "import torch\n",
        "\n",
        "#define a pytorch model\n",
        "pytorch_model = torch.nn.Sequential( #this is the same architecture as the keras model I just trained\n",
        "    torch.nn.Linear(1024, 1000),\n",
        "    torch.nn.ReLU(),\n",
        "    torch.nn.Dropout(0.5),\n",
        "    torch.nn.Linear(1000,1)\n",
        ")\n",
        "\n",
        "#1024 -> 1000 -> 1 (solubility evaluation)\n",
        "\n",
        "#convert it into a DeepChem model\n",
        "model = dc.models.TorchModel(pytorch_model, dc.models.losses.L2Loss()) #l2loss\n",
        "\n",
        "#train the model\n",
        "model.fit(train_dataset, nb_epoch=50)\n",
        "\n",
        "#evaluate the model\n",
        "print('training set score: {}'.format(model.evaluate(train_dataset,[metric])))\n",
        "print('testing set score: {}'.format(model.evaluate(test_dataset, [metric])))"
      ],
      "metadata": {
        "colab": {
          "base_uri": "https://localhost:8080/"
        },
        "id": "KDVvDezTJ3eQ",
        "outputId": "b0fdc562-625c-41b8-cccf-e60bac644a9d"
      },
      "execution_count": 17,
      "outputs": [
        {
          "output_type": "stream",
          "name": "stdout",
          "text": [
            "training set score: {'pearson_r2_score': 0.9784133078846854}\n",
            "testing set score: {'pearson_r2_score': 0.7037231114273185}\n"
          ]
        }
      ]
    },
    {
      "cell_type": "code",
      "source": [
        "#question: how do I actually run inference on this model?\n",
        "#I should spend time breaking up the evaluate and inference and rebuilding them today to get a better understanding of how the model runs\n",
        "#like, do I *have* to use DeepChem for this after running the fingerprint? could I take the data and run with it in vanilla PyTorch?"
      ],
      "metadata": {
        "id": "Q2tVWwtsKqIg"
      },
      "execution_count": 20,
      "outputs": []
    },
    {
      "cell_type": "code",
      "source": [
        "class ClassificationModel(tf.keras.Model):\n",
        "  def __init__(self):\n",
        "    super(ClassificationModel, self).__init__()\n",
        "    self.dense1 = tf.keras.layers.Dense(1000, activation='relu')\n",
        "    self.dense2 = tf.keras.layers.Dense(1)\n",
        "\n",
        "  def call(self, inputs, training=False):\n",
        "    y = self.dense1(inputs)\n",
        "    if training:\n",
        "      y = tf.nn.dropout(y, 0.5)\n",
        "    logits = self.dense2(y)\n",
        "    output = tf.nn.sigmoid(logits)\n",
        "    return output, logits\n",
        "\n",
        "keras_model = ClassificationModel()\n",
        "output_types = ['prediction', 'loss']\n",
        "model = dc.models.KerasModel(keras_model, dc.models.losses.SigmoidCrossEntropy(), output_types=output_types)"
      ],
      "metadata": {
        "id": "dyA7WJARLPe5"
      },
      "execution_count": 24,
      "outputs": []
    },
    {
      "cell_type": "code",
      "source": [
        "tasks, datasets, transformers = dc.molnet.load_bace_classification(featurizer=\"ECFP\", splitter=\"scaffold\")\n",
        "train_dataset, valid_dataset, test_dataset = datasets\n",
        "model.fit(train_dataset, nb_epoch=100)\n",
        "\n",
        "metric=dc.metrics.Metric(dc.metrics.roc_auc_score)\n",
        "print('training set score:', model.evaluate(train_dataset, [metric]))\n",
        "print('test set score:', model.evaluate(test_dataset, [metric]))"
      ],
      "metadata": {
        "colab": {
          "base_uri": "https://localhost:8080/"
        },
        "id": "OJ9lWyFRLw4e",
        "outputId": "9c9df62a-af08-4db2-d2a6-a151ab704490"
      },
      "execution_count": 26,
      "outputs": [
        {
          "output_type": "stream",
          "name": "stdout",
          "text": [
            "training set score: {'roc_auc_score': 0.9996228260110358}\n",
            "test set score: {'roc_auc_score': 0.7626811594202899}\n"
          ]
        }
      ]
    },
    {
      "cell_type": "code",
      "source": [
        "class ClassificationModel(torch.nn.Module):\n",
        "\n",
        "  def __init__(self):\n",
        "    super(ClassificationModel, self).__init__()\n",
        "    self.dense1 = torch.nn.Linear(1024, 1000)\n",
        "    self.dense2 = torch.nn.Linear(1000, 1)\n",
        "\n",
        "  def forward(self, inputs):\n",
        "    y = torch.nn.functional.relu(self.dense1(inputs))\n",
        "    y = torch.nn.functional.dropout(y, p=0.5, training=self.training)\n",
        "    logits = self.dense2(y)\n",
        "    output = torch.sigmoid(logits)\n",
        "    return output, logits"
      ],
      "metadata": {
        "id": "sFaKP_xCNz_o"
      },
      "execution_count": 28,
      "outputs": []
    },
    {
      "cell_type": "code",
      "source": [
        "torch_model = ClassificationModel()\n",
        "output_types = ['prediction', 'loss']\n",
        "model = dc.models.TorchModel(torch_model, dc.models.losses.SigmoidCrossEntropy(), output_types=output_types)"
      ],
      "metadata": {
        "id": "zFh1GpeBNqaB"
      },
      "execution_count": 30,
      "outputs": []
    },
    {
      "cell_type": "code",
      "source": [
        "tasks, datasets, transformers = dc.molnet.load_bace_classification(featurizer=\"ECFP\", splitter=\"scaffold\")\n",
        "train_dataset, valid_dataset, test_dataset = datasets\n",
        "model.fit(train_dataset, nb_epoch=100)\n",
        "metric = dc.metrics.Metric(dc.metrics.roc_auc_score)"
      ],
      "metadata": {
        "id": "1WdBD1pZO1HB"
      },
      "execution_count": 31,
      "outputs": []
    },
    {
      "cell_type": "markdown",
      "source": [],
      "metadata": {
        "id": "G4xrK3TjOz2d"
      }
    },
    {
      "cell_type": "code",
      "source": [
        "print('training set score: {}'.format(model.evaluate(train_dataset, [metric])))\n",
        "print('test set score: {}'.format(model.evaluate(test_dataset, [metric])))"
      ],
      "metadata": {
        "colab": {
          "base_uri": "https://localhost:8080/"
        },
        "id": "O-KuzUQgOaEk",
        "outputId": "66113772-371f-4ea8-884a-19f0ae1993ac"
      },
      "execution_count": 32,
      "outputs": [
        {
          "output_type": "stream",
          "name": "stdout",
          "text": [
            "training set score: {'roc_auc_score': 0.9996284137738353}\n",
            "test set score: {'roc_auc_score': 0.7622282608695652}\n"
          ]
        }
      ]
    },
    {
      "cell_type": "code",
      "source": [
        "\"\"\" Other Torch / Keras stuff\n",
        "\n",
        "Other Features\n",
        "KerasModel and TorchModel have lots of other features. Here are some of the more important ones.\n",
        "\n",
        "Automatically saving checkpoints during training.\n",
        "Logging progress to the console, to TensorBoard , or to Weights & Biases .\n",
        "Custom loss functions that you define with a function of the form f(outputs, labels, weights) .\n",
        "Early stopping using the ValidationCallback class.\n",
        "Loading parameters from pre-trained models.\n",
        "Estimating uncertainty in model outputs.\n",
        "Identifying important features through saliency mapping.\n",
        "By wrapping your own models in a KerasModel or TorchModel , you get immediate access to all these features. See the API documentation for full details on them.\n",
        "\n",
        "\"\"\""
      ],
      "metadata": {
        "colab": {
          "base_uri": "https://localhost:8080/",
          "height": 125
        },
        "id": "rZjQTtyPPPot",
        "outputId": "18a863f8-45cf-4996-fbed-5c5a2ca4c326"
      },
      "execution_count": 34,
      "outputs": [
        {
          "output_type": "execute_result",
          "data": {
            "text/plain": [
              "' Other Torch / Keras stuff\\n\\nOther Features\\nKerasModel and TorchModel have lots of other features. Here are some of the more important ones.\\n\\nAutomatically saving checkpoints during training.\\nLogging progress to the console, to TensorBoard , or to Weights & Biases .\\nCustom loss functions that you define with a function of the form f(outputs, labels, weights) .\\nEarly stopping using the ValidationCallback class.\\nLoading parameters from pre-trained models.\\nEstimating uncertainty in model outputs.\\nIdentifying important features through saliency mapping.\\nBy wrapping your own models in a KerasModel or TorchModel , you get immediate access to all these features. See the API documentation for full details on them.\\n\\n'"
            ],
            "application/vnd.google.colaboratory.intrinsic+json": {
              "type": "string"
            }
          },
          "metadata": {},
          "execution_count": 34
        }
      ]
    },
    {
      "cell_type": "code",
      "source": [],
      "metadata": {
        "id": "_Qaq3D7xR3cO"
      },
      "execution_count": null,
      "outputs": []
    }
  ]
}