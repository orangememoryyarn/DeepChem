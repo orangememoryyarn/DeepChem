{
  "nbformat": 4,
  "nbformat_minor": 0,
  "metadata": {
    "colab": {
      "provenance": [],
      "authorship_tag": "ABX9TyNpFzKIwKcM35z0XF8Q5oFb"
    },
    "kernelspec": {
      "name": "python3",
      "display_name": "Python 3"
    },
    "language_info": {
      "name": "python"
    }
  },
  "cells": [
    {
      "cell_type": "code",
      "execution_count": 4,
      "metadata": {
        "colab": {
          "base_uri": "https://localhost:8080/"
        },
        "id": "VLp3WCiFEu16",
        "outputId": "84b4f7b5-6fab-4fd6-a655-39f26f5ee36a"
      },
      "outputs": [
        {
          "output_type": "stream",
          "name": "stdout",
          "text": [
            "Collecting deepchem\n",
            "  Downloading deepchem-2.8.1.dev20240710195445-py3-none-any.whl (1.1 MB)\n",
            "\u001b[2K     \u001b[90m━━━━━━━━━━━━━━━━━━━━━━━━━━━━━━━━━━━━━━━━\u001b[0m \u001b[32m1.1/1.1 MB\u001b[0m \u001b[31m13.0 MB/s\u001b[0m eta \u001b[36m0:00:00\u001b[0m\n",
            "\u001b[?25hRequirement already satisfied: joblib in /usr/local/lib/python3.10/dist-packages (from deepchem) (1.4.2)\n",
            "Requirement already satisfied: numpy<2 in /usr/local/lib/python3.10/dist-packages (from deepchem) (1.25.2)\n",
            "Requirement already satisfied: pandas in /usr/local/lib/python3.10/dist-packages (from deepchem) (2.0.3)\n",
            "Requirement already satisfied: scikit-learn in /usr/local/lib/python3.10/dist-packages (from deepchem) (1.2.2)\n",
            "Requirement already satisfied: sympy in /usr/local/lib/python3.10/dist-packages (from deepchem) (1.13.0)\n",
            "Requirement already satisfied: scipy>=1.10.1 in /usr/local/lib/python3.10/dist-packages (from deepchem) (1.11.4)\n",
            "Collecting rdkit (from deepchem)\n",
            "  Downloading rdkit-2024.3.3-cp310-cp310-manylinux_2_28_x86_64.whl (33.1 MB)\n",
            "\u001b[2K     \u001b[90m━━━━━━━━━━━━━━━━━━━━━━━━━━━━━━━━━━━━━━━━\u001b[0m \u001b[32m33.1/33.1 MB\u001b[0m \u001b[31m41.6 MB/s\u001b[0m eta \u001b[36m0:00:00\u001b[0m\n",
            "\u001b[?25hRequirement already satisfied: python-dateutil>=2.8.2 in /usr/local/lib/python3.10/dist-packages (from pandas->deepchem) (2.8.2)\n",
            "Requirement already satisfied: pytz>=2020.1 in /usr/local/lib/python3.10/dist-packages (from pandas->deepchem) (2023.4)\n",
            "Requirement already satisfied: tzdata>=2022.1 in /usr/local/lib/python3.10/dist-packages (from pandas->deepchem) (2024.1)\n",
            "Requirement already satisfied: Pillow in /usr/local/lib/python3.10/dist-packages (from rdkit->deepchem) (9.4.0)\n",
            "Requirement already satisfied: threadpoolctl>=2.0.0 in /usr/local/lib/python3.10/dist-packages (from scikit-learn->deepchem) (3.5.0)\n",
            "Requirement already satisfied: mpmath<1.4,>=1.1.0 in /usr/local/lib/python3.10/dist-packages (from sympy->deepchem) (1.3.0)\n",
            "Requirement already satisfied: six>=1.5 in /usr/local/lib/python3.10/dist-packages (from python-dateutil>=2.8.2->pandas->deepchem) (1.16.0)\n",
            "Installing collected packages: rdkit, deepchem\n",
            "Successfully installed deepchem-2.8.1.dev20240710195445 rdkit-2024.3.3\n"
          ]
        }
      ],
      "source": [
        "!pip install --pre deepchem"
      ]
    },
    {
      "cell_type": "code",
      "source": [
        "import deepchem as dc\n",
        "dc.__version__"
      ],
      "metadata": {
        "colab": {
          "base_uri": "https://localhost:8080/",
          "height": 216
        },
        "id": "LT6ZuGqDExdZ",
        "outputId": "dcb52aa8-ac20-4d4a-bbfa-15e270771665"
      },
      "execution_count": 5,
      "outputs": [
        {
          "output_type": "stream",
          "name": "stderr",
          "text": [
            "WARNING:deepchem.feat.molecule_featurizers.rdkit_descriptors:No normalization for SPS. Feature removed!\n",
            "WARNING:deepchem.feat.molecule_featurizers.rdkit_descriptors:No normalization for AvgIpc. Feature removed!\n",
            "WARNING:tensorflow:From /usr/local/lib/python3.10/dist-packages/tensorflow/python/util/deprecation.py:588: calling function (from tensorflow.python.eager.polymorphic_function.polymorphic_function) with experimental_relax_shapes is deprecated and will be removed in a future version.\n",
            "Instructions for updating:\n",
            "experimental_relax_shapes is deprecated, use reduce_retracing instead\n",
            "WARNING:deepchem.models.torch_models:Skipped loading modules with pytorch-geometric dependency, missing a dependency. No module named 'torch_geometric'\n",
            "WARNING:deepchem.models:Skipped loading modules with pytorch-geometric dependency, missing a dependency. cannot import name 'DMPNN' from 'deepchem.models.torch_models' (/usr/local/lib/python3.10/dist-packages/deepchem/models/torch_models/__init__.py)\n",
            "WARNING:deepchem.models:Skipped loading modules with pytorch-lightning dependency, missing a dependency. No module named 'lightning'\n",
            "WARNING:deepchem.models:Skipped loading some Jax models, missing a dependency. No module named 'haiku'\n"
          ]
        },
        {
          "output_type": "execute_result",
          "data": {
            "text/plain": [
              "'2.8.1.dev'"
            ],
            "application/vnd.google.colaboratory.intrinsic+json": {
              "type": "string"
            }
          },
          "metadata": {},
          "execution_count": 5
        }
      ]
    },
    {
      "cell_type": "code",
      "source": [
        "featurizer = dc.feat.CircularFingerprint()\n",
        "\n",
        "print(featurizer([\"CC\", \"CCC\", \"CCO\"]))"
      ],
      "metadata": {
        "colab": {
          "base_uri": "https://localhost:8080/"
        },
        "id": "Ouh2RkehEzdb",
        "outputId": "944f3e82-0c3f-4bf8-d9f7-6db8685b2262"
      },
      "execution_count": 6,
      "outputs": [
        {
          "output_type": "stream",
          "name": "stdout",
          "text": [
            "[[0. 0. 0. ... 0. 0. 0.]\n",
            " [0. 0. 0. ... 0. 0. 0.]\n",
            " [0. 0. 0. ... 0. 0. 0.]]\n"
          ]
        },
        {
          "output_type": "stream",
          "name": "stderr",
          "text": [
            "[15:29:21] DEPRECATION WARNING: please use MorganGenerator\n",
            "[15:29:21] DEPRECATION WARNING: please use MorganGenerator\n",
            "[15:29:21] DEPRECATION WARNING: please use MorganGenerator\n"
          ]
        }
      ]
    },
    {
      "cell_type": "code",
      "source": [
        "rdkit_featurizer = dc.feat.RDKitDescriptors()\n",
        "features = rdkit_featurizer(['CCC'])[0]\n",
        "\n",
        "for feature, descriptor in zip(features[:10], rdkit_featurizer.reqd_properties.keys()):\n",
        "  print(descriptor, feature)"
      ],
      "metadata": {
        "colab": {
          "base_uri": "https://localhost:8080/"
        },
        "id": "Cr2xATpcFL9C",
        "outputId": "6fba4dfd-ba73-4d8c-d175-6fff20605a01"
      },
      "execution_count": 7,
      "outputs": [
        {
          "output_type": "stream",
          "name": "stdout",
          "text": [
            "AvgIpc 0.9182958340544894\n",
            "BCUT2D_CHGHI 1.3523744386698802\n",
            "BCUT2D_CHGLO -1.4760582438091696\n",
            "BCUT2D_LOGPHI 1.55881365076144\n",
            "BCUT2D_LOGPLOW -1.2696136507614397\n",
            "BCUT2D_MRHI 3.9177136507614425\n",
            "BCUT2D_MRLOW 1.089286349238561\n",
            "BCUT2D_MWHI 13.425713650761436\n",
            "BCUT2D_MWLOW 10.597286349238557\n",
            "BalabanJ 1.6329931618554523\n"
          ]
        },
        {
          "output_type": "stream",
          "name": "stderr",
          "text": [
            "[15:29:21] DEPRECATION WARNING: please use MorganGenerator\n",
            "[15:29:22] DEPRECATION WARNING: please use MorganGenerator\n",
            "[15:29:22] DEPRECATION WARNING: please use MorganGenerator\n"
          ]
        }
      ]
    },
    {
      "cell_type": "code",
      "source": [
        "print(\"The number of descriptors present is:\", len(features))"
      ],
      "metadata": {
        "id": "KrYAVRExFrzW",
        "colab": {
          "base_uri": "https://localhost:8080/"
        },
        "outputId": "cb627499-bf1c-4ca7-d95e-0294d80db2f9"
      },
      "execution_count": 8,
      "outputs": [
        {
          "output_type": "stream",
          "name": "stdout",
          "text": [
            "The number of descriptors present is: 210\n"
          ]
        }
      ]
    },
    {
      "cell_type": "code",
      "source": [
        "#CoulombMatrix\n",
        "from rdkit import Chem\n",
        "\n",
        "generator = dc.utils.ConformerGenerator(max_conformers=5)\n",
        "propane_mol = generator.generate_conformers(Chem.MolFromSmiles('CCC'))\n",
        "print(\"Number of available conformers for propane:\", len(propane_mol.GetConformers())) #a particular shape"
      ],
      "metadata": {
        "colab": {
          "base_uri": "https://localhost:8080/"
        },
        "id": "pwx7zztANixc",
        "outputId": "e2cdb11c-b20f-4274-d219-44d2baf6ab15"
      },
      "execution_count": 10,
      "outputs": [
        {
          "output_type": "stream",
          "name": "stdout",
          "text": [
            "Number of available conformers for propane: 1\n"
          ]
        }
      ]
    },
    {
      "cell_type": "code",
      "source": [
        "butane_mol = generator.generate_conformers(Chem.MolFromSmiles('CCCC'))\n",
        "print(\"Number of available conformers for butane\", len(butane_mol.GetConformers()))"
      ],
      "metadata": {
        "colab": {
          "base_uri": "https://localhost:8080/"
        },
        "id": "h7sdctmme7Zl",
        "outputId": "be11b9e4-1b95-44ee-a3e7-1448fd42cb90"
      },
      "execution_count": 11,
      "outputs": [
        {
          "output_type": "stream",
          "name": "stdout",
          "text": [
            "Number of available conformers for butane 3\n"
          ]
        }
      ]
    },
    {
      "cell_type": "code",
      "source": [
        "coulomb_mat = dc.feat.CoulombMatrix(max_atoms=20)\n",
        "features = coulomb_mat(propane_mol)\n",
        "print(features)"
      ],
      "metadata": {
        "colab": {
          "base_uri": "https://localhost:8080/"
        },
        "id": "k_jLV9dAfKTo",
        "outputId": "973ed54a-2580-4dc7-85d6-9a46b6ca2ceb"
      },
      "execution_count": 14,
      "outputs": [
        {
          "output_type": "stream",
          "name": "stdout",
          "text": [
            "[[[36.8581052  12.48684429  7.56196904  2.8580457   2.85804594\n",
            "    2.85945196  1.46740138  1.46740144  1.14239686  0.91279491\n",
            "    1.14239697  0.          0.          0.          0.\n",
            "    0.          0.          0.          0.          0.        ]\n",
            "  [12.48684429 36.8581052  12.48684493  1.45850736  1.45850743\n",
            "    1.46551205  2.85689509  2.85689512  1.45850736  1.46551219\n",
            "    1.45850732  0.          0.          0.          0.\n",
            "    0.          0.          0.          0.          0.        ]\n",
            "  [ 7.56196904 12.48684493 36.8581052   1.14239674  1.14239726\n",
            "    0.9127949   1.46740156  1.46740158  2.85804567  2.85945166\n",
            "    2.85804572  0.          0.          0.          0.\n",
            "    0.          0.          0.          0.          0.        ]\n",
            "  [ 2.8580457   1.45850736  1.14239674  0.5         0.29200278\n",
            "    0.29325372  0.21092515  0.17113413  0.16800013  0.13960185\n",
            "    0.20540027  0.          0.          0.          0.\n",
            "    0.          0.          0.          0.          0.        ]\n",
            "  [ 2.85804594  1.45850743  1.14239726  0.29200278  0.5\n",
            "    0.29325371  0.17113413  0.21092509  0.20540035  0.13960188\n",
            "    0.16800026  0.          0.          0.          0.\n",
            "    0.          0.          0.          0.          0.        ]\n",
            "  [ 2.85945196  1.46551205  0.9127949   0.29325372  0.29325371\n",
            "    0.5         0.21256971  0.21256979  0.13960187  0.1226839\n",
            "    0.13960185  0.          0.          0.          0.\n",
            "    0.          0.          0.          0.          0.        ]\n",
            "  [ 1.46740138  2.85689509  1.46740156  0.21092515  0.17113413\n",
            "    0.21256971  0.5         0.29351303  0.17113413  0.2125698\n",
            "    0.21092512  0.          0.          0.          0.\n",
            "    0.          0.          0.          0.          0.        ]\n",
            "  [ 1.46740144  2.85689512  1.46740158  0.17113413  0.21092509\n",
            "    0.21256979  0.29351303  0.5         0.21092515  0.21256979\n",
            "    0.17113413  0.          0.          0.          0.\n",
            "    0.          0.          0.          0.          0.        ]\n",
            "  [ 1.14239686  1.45850736  2.85804567  0.16800013  0.20540035\n",
            "    0.13960187  0.17113413  0.21092515  0.5         0.29325372\n",
            "    0.29200276  0.          0.          0.          0.\n",
            "    0.          0.          0.          0.          0.        ]\n",
            "  [ 0.91279491  1.46551219  2.85945166  0.13960185  0.13960188\n",
            "    0.1226839   0.2125698   0.21256979  0.29325372  0.5\n",
            "    0.29325367  0.          0.          0.          0.\n",
            "    0.          0.          0.          0.          0.        ]\n",
            "  [ 1.14239697  1.45850732  2.85804572  0.20540027  0.16800026\n",
            "    0.13960185  0.21092512  0.17113413  0.29200276  0.29325367\n",
            "    0.5         0.          0.          0.          0.\n",
            "    0.          0.          0.          0.          0.        ]\n",
            "  [ 0.          0.          0.          0.          0.\n",
            "    0.          0.          0.          0.          0.\n",
            "    0.          0.          0.          0.          0.\n",
            "    0.          0.          0.          0.          0.        ]\n",
            "  [ 0.          0.          0.          0.          0.\n",
            "    0.          0.          0.          0.          0.\n",
            "    0.          0.          0.          0.          0.\n",
            "    0.          0.          0.          0.          0.        ]\n",
            "  [ 0.          0.          0.          0.          0.\n",
            "    0.          0.          0.          0.          0.\n",
            "    0.          0.          0.          0.          0.\n",
            "    0.          0.          0.          0.          0.        ]\n",
            "  [ 0.          0.          0.          0.          0.\n",
            "    0.          0.          0.          0.          0.\n",
            "    0.          0.          0.          0.          0.\n",
            "    0.          0.          0.          0.          0.        ]\n",
            "  [ 0.          0.          0.          0.          0.\n",
            "    0.          0.          0.          0.          0.\n",
            "    0.          0.          0.          0.          0.\n",
            "    0.          0.          0.          0.          0.        ]\n",
            "  [ 0.          0.          0.          0.          0.\n",
            "    0.          0.          0.          0.          0.\n",
            "    0.          0.          0.          0.          0.\n",
            "    0.          0.          0.          0.          0.        ]\n",
            "  [ 0.          0.          0.          0.          0.\n",
            "    0.          0.          0.          0.          0.\n",
            "    0.          0.          0.          0.          0.\n",
            "    0.          0.          0.          0.          0.        ]\n",
            "  [ 0.          0.          0.          0.          0.\n",
            "    0.          0.          0.          0.          0.\n",
            "    0.          0.          0.          0.          0.\n",
            "    0.          0.          0.          0.          0.        ]\n",
            "  [ 0.          0.          0.          0.          0.\n",
            "    0.          0.          0.          0.          0.\n",
            "    0.          0.          0.          0.          0.\n",
            "    0.          0.          0.          0.          0.        ]]]\n"
          ]
        },
        {
          "output_type": "stream",
          "name": "stderr",
          "text": [
            "/usr/local/lib/python3.10/dist-packages/deepchem/feat/molecule_featurizers/coulomb_matrices.py:151: RuntimeWarning: divide by zero encountered in divide\n",
            "  m = np.outer(z, z) / d\n"
          ]
        }
      ]
    },
    {
      "cell_type": "code",
      "source": [
        "coulomb_mat_eig = dc.feat.CoulombMatrixEig(max_atoms=20) #baking in the idea that the relationships outlined in a CoulombMatrix are permutation & rotation invariant\n",
        "features = coulomb_mat_eig(propane_mol)\n",
        "print(features)"
      ],
      "metadata": {
        "colab": {
          "base_uri": "https://localhost:8080/"
        },
        "id": "cV7TcvyCfRc4",
        "outputId": "b5ddc200-07b9-473c-8492-2cce326d7519"
      },
      "execution_count": 18,
      "outputs": [
        {
          "output_type": "stream",
          "name": "stdout",
          "text": [
            "[[60.07620409 29.62963126 22.75497724  0.57137853  0.28781331  0.28548333\n",
            "   0.27558183  0.18163796  0.17460995  0.17059712  0.16640098  0.\n",
            "   0.          0.          0.          0.          0.          0.\n",
            "   0.          0.        ]]\n"
          ]
        },
        {
          "output_type": "stream",
          "name": "stderr",
          "text": [
            "/usr/local/lib/python3.10/dist-packages/deepchem/feat/molecule_featurizers/coulomb_matrices.py:151: RuntimeWarning: divide by zero encountered in divide\n",
            "  m = np.outer(z, z) / d\n"
          ]
        }
      ]
    },
    {
      "cell_type": "code",
      "source": [],
      "metadata": {
        "id": "lJPvb8H1foE9"
      },
      "execution_count": null,
      "outputs": []
    }
  ]
}