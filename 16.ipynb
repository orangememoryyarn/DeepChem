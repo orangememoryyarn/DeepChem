{
  "nbformat": 4,
  "nbformat_minor": 0,
  "metadata": {
    "colab": {
      "provenance": [],
      "authorship_tag": "ABX9TyOnCvyZVUkUQZvN1iFWhg5d"
    },
    "kernelspec": {
      "name": "python3",
      "display_name": "Python 3"
    },
    "language_info": {
      "name": "python"
    }
  },
  "cells": [
    {
      "cell_type": "code",
      "execution_count": 1,
      "metadata": {
        "colab": {
          "base_uri": "https://localhost:8080/"
        },
        "id": "NHVTulsj9IRO",
        "outputId": "8b99f96c-7a17-4fc2-9590-4792f9c5a329"
      },
      "outputs": [
        {
          "output_type": "stream",
          "name": "stdout",
          "text": [
            "Collecting deepchem\n",
            "  Downloading deepchem-2.8.1.dev20240724182210-py3-none-any.whl.metadata (2.0 kB)\n",
            "Requirement already satisfied: joblib in /usr/local/lib/python3.10/dist-packages (from deepchem) (1.4.2)\n",
            "Requirement already satisfied: numpy<2 in /usr/local/lib/python3.10/dist-packages (from deepchem) (1.25.2)\n",
            "Requirement already satisfied: pandas in /usr/local/lib/python3.10/dist-packages (from deepchem) (2.0.3)\n",
            "Requirement already satisfied: scikit-learn in /usr/local/lib/python3.10/dist-packages (from deepchem) (1.2.2)\n",
            "Requirement already satisfied: sympy in /usr/local/lib/python3.10/dist-packages (from deepchem) (1.13.1)\n",
            "Requirement already satisfied: scipy>=1.10.1 in /usr/local/lib/python3.10/dist-packages (from deepchem) (1.11.4)\n",
            "Collecting rdkit (from deepchem)\n",
            "  Downloading rdkit-2024.3.3-cp310-cp310-manylinux_2_28_x86_64.whl.metadata (3.9 kB)\n",
            "Requirement already satisfied: python-dateutil>=2.8.2 in /usr/local/lib/python3.10/dist-packages (from pandas->deepchem) (2.8.2)\n",
            "Requirement already satisfied: pytz>=2020.1 in /usr/local/lib/python3.10/dist-packages (from pandas->deepchem) (2023.4)\n",
            "Requirement already satisfied: tzdata>=2022.1 in /usr/local/lib/python3.10/dist-packages (from pandas->deepchem) (2024.1)\n",
            "Requirement already satisfied: Pillow in /usr/local/lib/python3.10/dist-packages (from rdkit->deepchem) (9.4.0)\n",
            "Requirement already satisfied: threadpoolctl>=2.0.0 in /usr/local/lib/python3.10/dist-packages (from scikit-learn->deepchem) (3.5.0)\n",
            "Requirement already satisfied: mpmath<1.4,>=1.1.0 in /usr/local/lib/python3.10/dist-packages (from sympy->deepchem) (1.3.0)\n",
            "Requirement already satisfied: six>=1.5 in /usr/local/lib/python3.10/dist-packages (from python-dateutil>=2.8.2->pandas->deepchem) (1.16.0)\n",
            "Downloading deepchem-2.8.1.dev20240724182210-py3-none-any.whl (1.1 MB)\n",
            "\u001b[2K   \u001b[90m━━━━━━━━━━━━━━━━━━━━━━━━━━━━━━━━━━━━━━━━\u001b[0m \u001b[32m1.1/1.1 MB\u001b[0m \u001b[31m4.7 MB/s\u001b[0m eta \u001b[36m0:00:00\u001b[0m\n",
            "\u001b[?25hDownloading rdkit-2024.3.3-cp310-cp310-manylinux_2_28_x86_64.whl (33.1 MB)\n",
            "\u001b[2K   \u001b[90m━━━━━━━━━━━━━━━━━━━━━━━━━━━━━━━━━━━━━━━━\u001b[0m \u001b[32m33.1/33.1 MB\u001b[0m \u001b[31m28.2 MB/s\u001b[0m eta \u001b[36m0:00:00\u001b[0m\n",
            "\u001b[?25hInstalling collected packages: rdkit, deepchem\n",
            "Successfully installed deepchem-2.8.1.dev20240724182210 rdkit-2024.3.3\n",
            "Requirement already satisfied: hyperopt in /usr/local/lib/python3.10/dist-packages (0.2.7)\n",
            "Requirement already satisfied: numpy in /usr/local/lib/python3.10/dist-packages (from hyperopt) (1.25.2)\n",
            "Requirement already satisfied: scipy in /usr/local/lib/python3.10/dist-packages (from hyperopt) (1.11.4)\n",
            "Requirement already satisfied: six in /usr/local/lib/python3.10/dist-packages (from hyperopt) (1.16.0)\n",
            "Requirement already satisfied: networkx>=2.2 in /usr/local/lib/python3.10/dist-packages (from hyperopt) (3.3)\n",
            "Requirement already satisfied: future in /usr/local/lib/python3.10/dist-packages (from hyperopt) (0.18.3)\n",
            "Requirement already satisfied: tqdm in /usr/local/lib/python3.10/dist-packages (from hyperopt) (4.66.4)\n",
            "Requirement already satisfied: cloudpickle in /usr/local/lib/python3.10/dist-packages (from hyperopt) (2.2.1)\n",
            "Requirement already satisfied: py4j in /usr/local/lib/python3.10/dist-packages (from hyperopt) (0.10.9.7)\n"
          ]
        }
      ],
      "source": [
        "!pip install --pre deepchem\n",
        "!pip install hyperopt"
      ]
    },
    {
      "cell_type": "code",
      "source": [
        "import deepchem as dc\n",
        "tasks, datasets, transformers = dc.molnet.load_hiv(featurizer='ECFP', split='scaffold')\n",
        "train_dataset, valid_dataset, test_dataset = datasets"
      ],
      "metadata": {
        "colab": {
          "base_uri": "https://localhost:8080/"
        },
        "id": "4c6SIwnt9dDa",
        "outputId": "f805d7ee-031a-42b2-a982-1cfa4edc4153"
      },
      "execution_count": 4,
      "outputs": [
        {
          "output_type": "stream",
          "name": "stderr",
          "text": [
            "WARNING:deepchem.molnet.load_function.molnet_loader:'split' is deprecated.  Use 'splitter' instead.\n"
          ]
        }
      ]
    },
    {
      "cell_type": "code",
      "source": [
        "from hyperopt import hp, fmin, tpe, Trials"
      ],
      "metadata": {
        "id": "LdvHOpw-9k0X"
      },
      "execution_count": 6,
      "outputs": []
    },
    {
      "cell_type": "code",
      "source": [
        "search_space = {\n",
        "    'layer_sizes': hp.choice('layer_sizes', [[500], [1000], [2000], [1000,1000]]),\n",
        "    'dropouts': hp.uniform('dropout', low=0.2, high=0.5),\n",
        "    'learning_rate': hp.uniform('learning_rate', high=0.001, low=0.0001)\n",
        "}"
      ],
      "metadata": {
        "id": "z8Y-Jveu9kWQ"
      },
      "execution_count": 7,
      "outputs": []
    },
    {
      "cell_type": "code",
      "source": [
        "import tempfile\n",
        "\n",
        "metric = dc.metrics.Metric(dc.metrics.roc_auc_score)\n",
        "\n",
        "def fm(args):\n",
        "  save_dir = tempfile.mkdtemp()\n",
        "  model = dc.models.MultitaskClassifier(n_tasks=len(tasks),n_features=1024,layer_sizes=args['layer_sizes'],dropouts=args['dropouts'],learning_rate=args['learning_rate'])\n",
        "  validation=dc.models.ValidationCallback(valid_dataset, 1000, [metric],save_dir=save_dir,transformers=transformers,save_on_minimum=False)\n",
        "\n",
        "  model.fit(train_dataset, nb_epoch=25,callbacks=validation)\n",
        "\n",
        "  model.restore(model_dir=save_dir)\n",
        "  valid_score = model.evaluate(valid_dataset, [metric], transformers)\n",
        "\n",
        "  return -1*valid_score['roc_auc_score']\n"
      ],
      "metadata": {
        "id": "uIMCm32w-BfR"
      },
      "execution_count": 13,
      "outputs": []
    },
    {
      "cell_type": "code",
      "source": [
        "trials=Trials()\n",
        "best = fmin(fm,\n",
        "    \t\tspace= search_space,\n",
        "    \t\talgo=tpe.suggest,\n",
        "    \t\tmax_evals=15,\n",
        "    \t\ttrials = trials)"
      ],
      "metadata": {
        "colab": {
          "base_uri": "https://localhost:8080/"
        },
        "id": "JjNe1DQ3-2Wa",
        "outputId": "659011cd-9a76-47fb-90ad-fe947af7914b"
      },
      "execution_count": 14,
      "outputs": [
        {
          "output_type": "stream",
          "name": "stdout",
          "text": [
            "\r  0%|          | 0/15 [00:00<?, ?trial/s, best loss=?]Step 1000 validation: roc_auc_score=0.743966\n",
            "Step 2000 validation: roc_auc_score=0.767642\n",
            "Step 3000 validation: roc_auc_score=0.777662\n",
            "Step 4000 validation: roc_auc_score=0.784627\n",
            "Step 5000 validation: roc_auc_score=0.785042\n",
            "Step 6000 validation: roc_auc_score=0.777364\n",
            "Step 7000 validation: roc_auc_score=0.791405\n",
            "Step 8000 validation: roc_auc_score=0.777883\n",
            "  7%|▋         | 1/15 [02:38<37:05, 158.94s/trial, best loss: -0.7914048721340388]Step 1000 validation: roc_auc_score=0.726446\n",
            "Step 2000 validation: roc_auc_score=0.774004\n",
            "Step 3000 validation: roc_auc_score=0.773903\n",
            "Step 4000 validation: roc_auc_score=0.775721\n",
            "Step 5000 validation: roc_auc_score=0.772847\n",
            "Step 6000 validation: roc_auc_score=0.767186\n",
            "Step 7000 validation: roc_auc_score=0.761912\n",
            "Step 8000 validation: roc_auc_score=0.758989\n",
            " 13%|█▎        | 2/15 [07:25<50:40, 233.87s/trial, best loss: -0.7914048721340388]Step 1000 validation: roc_auc_score=0.759919\n",
            "Step 2000 validation: roc_auc_score=0.762457\n",
            "Step 3000 validation: roc_auc_score=0.736122\n",
            "Step 4000 validation: roc_auc_score=0.753421\n",
            "Step 5000 validation: roc_auc_score=0.733675\n",
            "Step 6000 validation: roc_auc_score=0.731556\n",
            "Step 7000 validation: roc_auc_score=0.733231\n",
            "Step 8000 validation: roc_auc_score=0.753828\n",
            " 20%|██        | 3/15 [12:36<53:49, 269.09s/trial, best loss: -0.7914048721340388]Step 1000 validation: roc_auc_score=0.734572\n",
            "Step 2000 validation: roc_auc_score=0.749744\n",
            "Step 3000 validation: roc_auc_score=0.766986\n",
            "Step 4000 validation: roc_auc_score=0.777929\n",
            "Step 5000 validation: roc_auc_score=0.762855\n",
            "Step 6000 validation: roc_auc_score=0.764543\n",
            "Step 7000 validation: roc_auc_score=0.760827\n",
            "Step 8000 validation: roc_auc_score=0.753755\n",
            " 27%|██▋       | 4/15 [15:12<41:11, 224.70s/trial, best loss: -0.7914048721340388]Step 1000 validation: roc_auc_score=0.727138\n",
            "Step 2000 validation: roc_auc_score=0.760458\n",
            "Step 3000 validation: roc_auc_score=0.767378\n",
            "Step 4000 validation: roc_auc_score=0.737912\n",
            "Step 5000 validation: roc_auc_score=0.738254\n",
            "Step 6000 validation: roc_auc_score=0.768372\n",
            "Step 7000 validation: roc_auc_score=0.7579\n",
            "Step 8000 validation: roc_auc_score=0.753596\n",
            " 33%|███▎      | 5/15 [20:37<43:25, 260.57s/trial, best loss: -0.7914048721340388]Step 1000 validation: roc_auc_score=0.72467\n",
            "Step 2000 validation: roc_auc_score=0.779583\n",
            "Step 3000 validation: roc_auc_score=0.764739\n",
            "Step 4000 validation: roc_auc_score=0.763163\n",
            "Step 5000 validation: roc_auc_score=0.755267\n",
            "Step 6000 validation: roc_auc_score=0.762356\n",
            "Step 7000 validation: roc_auc_score=0.747995\n",
            "Step 8000 validation: roc_auc_score=0.723369\n",
            " 40%|████      | 6/15 [25:38<41:08, 274.30s/trial, best loss: -0.7914048721340388]Step 1000 validation: roc_auc_score=0.756432\n",
            "Step 2000 validation: roc_auc_score=0.726762\n",
            "Step 3000 validation: roc_auc_score=0.755818\n",
            "Step 4000 validation: roc_auc_score=0.749096\n",
            "Step 5000 validation: roc_auc_score=0.733037\n",
            "Step 6000 validation: roc_auc_score=0.750299\n",
            "Step 7000 validation: roc_auc_score=0.755886\n",
            "Step 8000 validation: roc_auc_score=0.736195\n",
            " 47%|████▋     | 7/15 [31:01<38:43, 290.46s/trial, best loss: -0.7914048721340388]Step 1000 validation: roc_auc_score=0.75419\n",
            "Step 2000 validation: roc_auc_score=0.761689\n",
            "Step 3000 validation: roc_auc_score=0.762911\n",
            "Step 4000 validation: roc_auc_score=0.775174\n",
            "Step 5000 validation: roc_auc_score=0.772143\n",
            "Step 6000 validation: roc_auc_score=0.766512\n",
            "Step 7000 validation: roc_auc_score=0.765554\n",
            "Step 8000 validation: roc_auc_score=0.762702\n",
            " 53%|█████▎    | 8/15 [36:03<34:17, 293.95s/trial, best loss: -0.7914048721340388]Step 1000 validation: roc_auc_score=0.753648\n",
            "Step 2000 validation: roc_auc_score=0.76137\n",
            "Step 3000 validation: roc_auc_score=0.760431\n",
            "Step 4000 validation: roc_auc_score=0.758051\n",
            "Step 5000 validation: roc_auc_score=0.769182\n",
            "Step 6000 validation: roc_auc_score=0.766785\n",
            "Step 7000 validation: roc_auc_score=0.755339\n",
            "Step 8000 validation: roc_auc_score=0.751923\n",
            " 60%|██████    | 9/15 [38:35<24:57, 249.61s/trial, best loss: -0.7914048721340388]Step 1000 validation: roc_auc_score=0.740436\n",
            "Step 2000 validation: roc_auc_score=0.763627\n",
            "Step 3000 validation: roc_auc_score=0.775171\n",
            "Step 4000 validation: roc_auc_score=0.776819\n",
            "Step 5000 validation: roc_auc_score=0.782009\n",
            "Step 6000 validation: roc_auc_score=0.783151\n",
            "Step 7000 validation: roc_auc_score=0.779925\n",
            "Step 8000 validation: roc_auc_score=0.776877\n",
            " 67%|██████▋   | 10/15 [41:07<18:17, 219.55s/trial, best loss: -0.7914048721340388]Step 1000 validation: roc_auc_score=0.73016\n",
            "Step 2000 validation: roc_auc_score=0.755017\n",
            "Step 3000 validation: roc_auc_score=0.76258\n",
            "Step 4000 validation: roc_auc_score=0.778337\n",
            "Step 5000 validation: roc_auc_score=0.771257\n",
            "Step 6000 validation: roc_auc_score=0.767284\n",
            "Step 7000 validation: roc_auc_score=0.772757\n",
            "Step 8000 validation: roc_auc_score=0.773721\n",
            " 73%|███████▎  | 11/15 [42:43<12:07, 181.81s/trial, best loss: -0.7914048721340388]Step 1000 validation: roc_auc_score=0.731688\n",
            "Step 2000 validation: roc_auc_score=0.777265\n",
            "Step 3000 validation: roc_auc_score=0.774808\n",
            "Step 4000 validation: roc_auc_score=0.779512\n",
            "Step 5000 validation: roc_auc_score=0.779475\n",
            "Step 6000 validation: roc_auc_score=0.768168\n",
            "Step 7000 validation: roc_auc_score=0.779029\n",
            "Step 8000 validation: roc_auc_score=0.759787\n",
            " 80%|████████  | 12/15 [47:33<10:43, 214.49s/trial, best loss: -0.7914048721340388]Step 1000 validation: roc_auc_score=0.714055\n",
            "Step 2000 validation: roc_auc_score=0.771107\n",
            "Step 3000 validation: roc_auc_score=0.771166\n",
            "Step 4000 validation: roc_auc_score=0.772933\n",
            "Step 5000 validation: roc_auc_score=0.781609\n",
            "Step 6000 validation: roc_auc_score=0.769277\n",
            "Step 7000 validation: roc_auc_score=0.782917\n",
            "Step 8000 validation: roc_auc_score=0.775614\n",
            " 87%|████████▋ | 13/15 [50:01<06:29, 194.63s/trial, best loss: -0.7914048721340388]Step 1000 validation: roc_auc_score=0.725766\n",
            "Step 2000 validation: roc_auc_score=0.751404\n",
            "Step 3000 validation: roc_auc_score=0.751159\n",
            "Step 4000 validation: roc_auc_score=0.778021\n",
            "Step 5000 validation: roc_auc_score=0.764968\n",
            "Step 6000 validation: roc_auc_score=0.770109\n",
            "Step 7000 validation: roc_auc_score=0.770537\n",
            "Step 8000 validation: roc_auc_score=0.769665\n",
            " 93%|█████████▎| 14/15 [52:31<03:00, 180.89s/trial, best loss: -0.7914048721340388]Step 1000 validation: roc_auc_score=0.730457\n",
            "Step 2000 validation: roc_auc_score=0.749845\n",
            "Step 3000 validation: roc_auc_score=0.779231\n",
            "Step 4000 validation: roc_auc_score=0.783463\n",
            "Step 5000 validation: roc_auc_score=0.789116\n",
            "Step 6000 validation: roc_auc_score=0.784006\n",
            "Step 7000 validation: roc_auc_score=0.780016\n",
            "Step 8000 validation: roc_auc_score=0.781108\n",
            "100%|██████████| 15/15 [55:06<00:00, 220.47s/trial, best loss: -0.7914048721340388]\n"
          ]
        }
      ]
    },
    {
      "cell_type": "code",
      "source": [
        "print(\"Best: {}\".format(best))"
      ],
      "metadata": {
        "colab": {
          "base_uri": "https://localhost:8080/"
        },
        "id": "3a1_A9_Q-7DA",
        "outputId": "4ad48a04-52a1-41e3-9534-f4d5398f804d"
      },
      "execution_count": 15,
      "outputs": [
        {
          "output_type": "stream",
          "name": "stdout",
          "text": [
            "Best: {'dropout': 0.23306727396399113, 'layer_sizes': 1, 'learning_rate': 0.000959210283134042}\n"
          ]
        }
      ]
    },
    {
      "cell_type": "code",
      "source": [],
      "metadata": {
        "id": "J2-mVrsP_ntB"
      },
      "execution_count": null,
      "outputs": []
    }
  ]
}