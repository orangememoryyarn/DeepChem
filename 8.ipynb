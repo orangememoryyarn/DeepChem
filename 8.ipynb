{
  "nbformat": 4,
  "nbformat_minor": 0,
  "metadata": {
    "colab": {
      "provenance": [],
      "authorship_tag": "ABX9TyMUT9g5dBBq3y7dYlH77Hm9"
    },
    "kernelspec": {
      "name": "python3",
      "display_name": "Python 3"
    },
    "language_info": {
      "name": "python"
    }
  },
  "cells": [
    {
      "cell_type": "code",
      "execution_count": 1,
      "metadata": {
        "colab": {
          "base_uri": "https://localhost:8080/"
        },
        "id": "Lusq_dmuScUE",
        "outputId": "ac7c47cb-4325-422d-a160-eae12b997094"
      },
      "outputs": [
        {
          "output_type": "stream",
          "name": "stdout",
          "text": [
            "Collecting deepchem\n",
            "  Downloading deepchem-2.8.1.dev20240710195445-py3-none-any.whl (1.1 MB)\n",
            "\u001b[2K     \u001b[90m━━━━━━━━━━━━━━━━━━━━━━━━━━━━━━━━━━━━━━━━\u001b[0m \u001b[32m1.1/1.1 MB\u001b[0m \u001b[31m5.0 MB/s\u001b[0m eta \u001b[36m0:00:00\u001b[0m\n",
            "\u001b[?25hRequirement already satisfied: joblib in /usr/local/lib/python3.10/dist-packages (from deepchem) (1.4.2)\n",
            "Requirement already satisfied: numpy<2 in /usr/local/lib/python3.10/dist-packages (from deepchem) (1.25.2)\n",
            "Requirement already satisfied: pandas in /usr/local/lib/python3.10/dist-packages (from deepchem) (2.0.3)\n",
            "Requirement already satisfied: scikit-learn in /usr/local/lib/python3.10/dist-packages (from deepchem) (1.2.2)\n",
            "Requirement already satisfied: sympy in /usr/local/lib/python3.10/dist-packages (from deepchem) (1.13.0)\n",
            "Requirement already satisfied: scipy>=1.10.1 in /usr/local/lib/python3.10/dist-packages (from deepchem) (1.11.4)\n",
            "Collecting rdkit (from deepchem)\n",
            "  Downloading rdkit-2024.3.3-cp310-cp310-manylinux_2_28_x86_64.whl (33.1 MB)\n",
            "\u001b[2K     \u001b[90m━━━━━━━━━━━━━━━━━━━━━━━━━━━━━━━━━━━━━━━━\u001b[0m \u001b[32m33.1/33.1 MB\u001b[0m \u001b[31m12.9 MB/s\u001b[0m eta \u001b[36m0:00:00\u001b[0m\n",
            "\u001b[?25hRequirement already satisfied: python-dateutil>=2.8.2 in /usr/local/lib/python3.10/dist-packages (from pandas->deepchem) (2.8.2)\n",
            "Requirement already satisfied: pytz>=2020.1 in /usr/local/lib/python3.10/dist-packages (from pandas->deepchem) (2023.4)\n",
            "Requirement already satisfied: tzdata>=2022.1 in /usr/local/lib/python3.10/dist-packages (from pandas->deepchem) (2024.1)\n",
            "Requirement already satisfied: Pillow in /usr/local/lib/python3.10/dist-packages (from rdkit->deepchem) (9.4.0)\n",
            "Requirement already satisfied: threadpoolctl>=2.0.0 in /usr/local/lib/python3.10/dist-packages (from scikit-learn->deepchem) (3.5.0)\n",
            "Requirement already satisfied: mpmath<1.4,>=1.1.0 in /usr/local/lib/python3.10/dist-packages (from sympy->deepchem) (1.3.0)\n",
            "Requirement already satisfied: six>=1.5 in /usr/local/lib/python3.10/dist-packages (from python-dateutil>=2.8.2->pandas->deepchem) (1.16.0)\n",
            "Installing collected packages: rdkit, deepchem\n",
            "Successfully installed deepchem-2.8.1.dev20240710195445 rdkit-2024.3.3\n"
          ]
        }
      ],
      "source": [
        "!pip install --pre deepchem"
      ]
    },
    {
      "cell_type": "code",
      "source": [
        "import deepchem as dc\n",
        "print(dc.__version__)"
      ],
      "metadata": {
        "colab": {
          "base_uri": "https://localhost:8080/"
        },
        "id": "ve4iSFqaSeVF",
        "outputId": "1d33caf8-fee1-43c7-cda4-226ce11f2efe"
      },
      "execution_count": 2,
      "outputs": [
        {
          "output_type": "stream",
          "name": "stderr",
          "text": [
            "WARNING:deepchem.feat.molecule_featurizers.rdkit_descriptors:No normalization for SPS. Feature removed!\n",
            "WARNING:deepchem.feat.molecule_featurizers.rdkit_descriptors:No normalization for AvgIpc. Feature removed!\n",
            "WARNING:tensorflow:From /usr/local/lib/python3.10/dist-packages/tensorflow/python/util/deprecation.py:588: calling function (from tensorflow.python.eager.polymorphic_function.polymorphic_function) with experimental_relax_shapes is deprecated and will be removed in a future version.\n",
            "Instructions for updating:\n",
            "experimental_relax_shapes is deprecated, use reduce_retracing instead\n",
            "WARNING:deepchem.models.torch_models:Skipped loading modules with pytorch-geometric dependency, missing a dependency. No module named 'torch_geometric'\n",
            "WARNING:deepchem.models:Skipped loading modules with pytorch-geometric dependency, missing a dependency. cannot import name 'DMPNN' from 'deepchem.models.torch_models' (/usr/local/lib/python3.10/dist-packages/deepchem/models/torch_models/__init__.py)\n",
            "WARNING:deepchem.models:Skipped loading modules with pytorch-lightning dependency, missing a dependency. No module named 'lightning'\n",
            "WARNING:deepchem.models:Skipped loading some Jax models, missing a dependency. No module named 'haiku'\n"
          ]
        },
        {
          "output_type": "stream",
          "name": "stdout",
          "text": [
            "2.8.1.dev\n"
          ]
        }
      ]
    },
    {
      "cell_type": "code",
      "source": [
        "#General Splitters:\n",
        "  #Random Splitter\n",
        "  #RandomGroupSplitter\n",
        "  #RandomStratifiedSplitter\n",
        "  #SingletaskStratifiedSplitter\n",
        "  #IndexSplitter\n",
        "  #SpecifiedSplitter\n",
        "  #TaskSplitter\n",
        "\n",
        "#Molecular Splitters:\n",
        "  #ScaffoldSplitter\n",
        "  #MolecularWeightSplitter\n",
        "  #MaxMinSplitter\n",
        "  #ButinaSplitter\n",
        "  #FingerprintSplitter"
      ],
      "metadata": {
        "id": "6psAXRJASgra"
      },
      "execution_count": 3,
      "outputs": []
    },
    {
      "cell_type": "code",
      "source": [
        "import warnings\n",
        "import deepchem as dc\n",
        "warnings.filterwarnings(\"ignore\", category=DeprecationWarning) #no more DepreciationWarnings please; I get that there's a new version\n",
        "\n",
        "splitters=['random', 'scaffold','butina','fingerprint'] #the different splitetrs\n",
        "metric = dc.metrics.Metric(dc.metrics.roc_auc_score)\n",
        "\n",
        "for splitter in splitters:\n",
        "\n",
        "  tasks, datasets, transformers = dc.molnet.load_tox21(featurizer=\"ECFP\", splitter=splitter)\n",
        "  train_dataset, valid_dataset, test_dataset = datasets\n",
        "  model = dc.models.MultitaskClassifier(n_tasks=len(tasks), n_features=1024, layer_sizes=[1000])\n",
        "\n",
        "  model.fit(train_dataset, nb_epoch=10)\n",
        "  warnings.filterwarnings(\"ignore\", category=DeprecationWarning) #I threw this in the second time because it makes the warnings stop\n",
        "\n",
        "  print('splitter: {}'.format(splitter))\n",
        "  print('training set score: {}'.format(model.evaluate(train_dataset, [metric])))\n",
        "  print('testing set score: {}'.format(model.evaluate(test_dataset, [metric])))"
      ],
      "metadata": {
        "colab": {
          "base_uri": "https://localhost:8080/"
        },
        "id": "rRcbJMcQSzhm",
        "outputId": "60a0192b-e700-4032-8640-07c3260e81e3"
      },
      "execution_count": 11,
      "outputs": [
        {
          "output_type": "stream",
          "name": "stdout",
          "text": [
            "splitter: random\n",
            "training set score: {'roc_auc_score': 0.9546369455881395}\n",
            "testing set score: {'roc_auc_score': 0.7807925728467615}\n",
            "splitter: scaffold\n",
            "training set score: {'roc_auc_score': 0.9590897589084119}\n",
            "testing set score: {'roc_auc_score': 0.6875122933579679}\n",
            "splitter: butina\n",
            "training set score: {'roc_auc_score': 0.9594849097802917}\n",
            "testing set score: {'roc_auc_score': 0.6011214576257442}\n",
            "splitter: fingerprint\n",
            "training set score: {'roc_auc_score': 0.9551523179640887}\n",
            "testing set score: {'roc_auc_score': 0.6169784160581616}\n"
          ]
        }
      ]
    },
    {
      "cell_type": "code",
      "source": [],
      "metadata": {
        "id": "iVuxCdlWZ181"
      },
      "execution_count": null,
      "outputs": []
    }
  ]
}